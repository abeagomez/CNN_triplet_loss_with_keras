{
 "cells": [
  {
   "cell_type": "code",
   "execution_count": 43,
   "metadata": {},
   "outputs": [],
   "source": [
    "import os\n",
    "from random import shuffle\n",
    "\n",
    "class A(object):\n",
    "    @staticmethod\n",
    "    def fileshuffle(filename, camera, basefilename='train%d.txt'):\n",
    "        \n",
    "        metadata = []\n",
    "        with open(filename) as r:\n",
    "            for line in r:\n",
    "                line = line.rstrip()\n",
    "                line = line.split()\n",
    "                line = line[0]\n",
    "                data = line.split('/')\n",
    "                customer, tracklet, detid = data[-3], data[-2], data[-1]\n",
    "                metadata.append((customer, tracklet, detid))\n",
    "        shuffle(metadata)\n",
    "        with open(basefilename % (camera,), 'w') as w:\n",
    "            for m in metadata:\n",
    "                _c,_t,_d = m\n",
    "                w.write('./annotated/%s/%s/%s %d\\n' % (_c,_t,_d, camera))\n",
    "        \n",
    "    @staticmethod\n",
    "    def combinations(filename,camera, samples = 2, basefilename='train_combination%d.txt'):\n",
    "        metadata = []\n",
    "        with open(filename) as r:\n",
    "            for line in r:\n",
    "                line = line.rstrip()\n",
    "                line = line.split()\n",
    "                data = line[0].split('/')\n",
    "                customer, tracklet, detid = data[-3], data[-2], data[-1]\n",
    "                metadata.append((customer, tracklet, detid))\n",
    "        \n",
    "        train      = []\n",
    "        \n",
    "        for i in range(len(metadata)):\n",
    "            positives = []\n",
    "            negatives = []\n",
    "            \n",
    "            for j in range(len(metadata)-1, -1, -1):\n",
    "                if i == j:\n",
    "                    continue\n",
    "                c1, t1, d1 = metadata[i]\n",
    "                c2, t2, d2 = metadata[j]\n",
    "                if c1 == c2 and len(positives) < samples:\n",
    "                    positives.append(j)\n",
    "                if c1 != c2 and len(negatives) < samples:\n",
    "                    negatives.append(j)\n",
    "                if (len(positives) == samples and len(negatives)== samples):\n",
    "                    for k in range(samples):\n",
    "                        train.append((i, positives[k], negatives[k], camera ))\n",
    "                    break\n",
    "        print('creating...')\n",
    "        print(basefilename % (camera,))\n",
    "        \n",
    "        with open(basefilename % (camera,), 'w') as w:\n",
    "            for t in train:\n",
    "                w.write('%d %d %d %d \\n' % t)\n",
    "    \n",
    "    @staticmethod\n",
    "    def generate_train_data(filename, camera, samples = 2):\n",
    "        A.fileshuffle(filename, camera, 'train%d.txt')\n",
    "        A.combinations('train%d.txt' % (camera,), camera, samples, 'train_combination%d.txt')\n",
    "        \n",
    "    \n",
    "    @staticmethod\n",
    "    def generate_valid_data(filename, camera, samples = 2):\n",
    "        A.fileshuffle(filename, camera, 'val%d.txt')\n",
    "        tmp = 'tmp_val%d.txt'\n",
    "        A.combinations('val%d.txt' % (camera,), camera, samples, tmp)\n",
    "        A.from_train_2_val(tmp % (camera,), camera, 'val_combination%d.txt')\n",
    "        \n",
    "    @staticmethod\n",
    "    def from_train_2_val(filename, camera, basefilename= 'val_combination%d.txt'):\n",
    "        with open(basefilename % (camera,), 'w') as w:\n",
    "            \n",
    "            with open(filename) as r:\n",
    "                for line in r:\n",
    "                    line = line.rstrip()\n",
    "                    line = line.split()\n",
    "                    w.write('%s %s %s \\n' % (line[0], line[1], camera))\n",
    "                    w.write('%s %s %s \\n' % (line[0], line[2], camera))\n",
    "                    \n",
    "                \n",
    "        \n",
    "    "
   ]
  },
  {
   "cell_type": "code",
   "execution_count": 40,
   "metadata": {},
   "outputs": [
    {
     "name": "stdout",
     "output_type": "stream",
     "text": [
      "creating...\n",
      "train_combination0.txt\n"
     ]
    }
   ],
   "source": [
    "A.generate_train_data('shuffled0.txt', camera=0, samples=2)"
   ]
  },
  {
   "cell_type": "code",
   "execution_count": 44,
   "metadata": {},
   "outputs": [
    {
     "name": "stdout",
     "output_type": "stream",
     "text": [
      "creating...\n",
      "tmp_val0.txt\n"
     ]
    }
   ],
   "source": [
    "A.generate_valid_data('shuffled0.txt', camera=0, samples=2)"
   ]
  },
  {
   "cell_type": "code",
   "execution_count": null,
   "metadata": {},
   "outputs": [],
   "source": []
  }
 ],
 "metadata": {
  "kernelspec": {
   "display_name": "Python 3",
   "language": "python",
   "name": "python3"
  },
  "language_info": {
   "codemirror_mode": {
    "name": "ipython",
    "version": 3
   },
   "file_extension": ".py",
   "mimetype": "text/x-python",
   "name": "python",
   "nbconvert_exporter": "python",
   "pygments_lexer": "ipython3",
   "version": "3.7.0"
  }
 },
 "nbformat": 4,
 "nbformat_minor": 2
}
