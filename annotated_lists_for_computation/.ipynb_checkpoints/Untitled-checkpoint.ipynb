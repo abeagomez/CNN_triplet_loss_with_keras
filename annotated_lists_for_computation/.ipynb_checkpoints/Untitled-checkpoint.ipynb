{
 "cells": [
  {
   "cell_type": "code",
   "execution_count": 10,
   "metadata": {},
   "outputs": [],
   "source": [
    "import os\n",
    "from random import shuffle\n",
    "import random as rd\n",
    "\n",
    "class A(object):\n",
    "    @staticmethod\n",
    "    def fileshuffle(filename, camera, basefilename='train%d.txt'):\n",
    "        \n",
    "        metadata = []\n",
    "        with open(filename) as r:\n",
    "            for line in r:\n",
    "                line = line.rstrip()\n",
    "                line = line.split()\n",
    "                line = line[0]\n",
    "                data = line.split('/')\n",
    "                customer, tracklet, detid = data[-3], data[-2], data[-1]\n",
    "                metadata.append((customer, tracklet, detid))\n",
    "        shuffle(metadata)\n",
    "        with open(basefilename % (camera,), 'w') as w:\n",
    "            for m in metadata:\n",
    "                _c,_t,_d = m\n",
    "                w.write('./annotated/%s/%s/%s %d\\n' % (_c,_t,_d, camera))\n",
    "        \n",
    "    @staticmethod\n",
    "    def combinations(filename,camera, samples = 2, basefilename='train_combination%d.txt'):\n",
    "        metadata = []\n",
    "        with open(filename) as r:\n",
    "            for line in r:\n",
    "                line = line.rstrip()\n",
    "                line = line.split()\n",
    "                data = line[0].split('/')\n",
    "                customer, tracklet, detid = data[-3], data[-2], data[-1]\n",
    "                metadata.append((customer, tracklet, detid))\n",
    "        \n",
    "        train      = []\n",
    "        \n",
    "        for i in range(len(metadata)):\n",
    "            positives = []\n",
    "            negatives = []\n",
    "            \n",
    "            for j in range(len(metadata)-1, -1, -1):\n",
    "                if i == j:\n",
    "                    continue\n",
    "                c1, t1, d1 = metadata[i]\n",
    "                c2, t2, d2 = metadata[j]\n",
    "                if c1 == c2 and len(positives) < samples:\n",
    "                    positives.append(j)\n",
    "                if len(negatives) < samples:\n",
    "                    h = rd.randint(0, len(metadata) -1)\n",
    "                    c3, t3, d3 = metadata[h]\n",
    "                    if c3 != c1:\n",
    "                        negatives.append(h)\n",
    "                if (len(positives) == samples and len(negatives)== samples):\n",
    "                    for k in range(samples):\n",
    "                        train.append((i+1, positives[k]+1, negatives[k]+1, camera ))\n",
    "                    break\n",
    "        print('creating...')\n",
    "        print(basefilename % (camera,))\n",
    "        \n",
    "        with open(basefilename % (camera,), 'w') as w:\n",
    "            for t in train:\n",
    "                w.write('%d %d %d %d \\n' % t)\n",
    "    \n",
    "    @staticmethod\n",
    "    def generate_train_data(filename, camera, samples = 2):\n",
    "        #A.fileshuffle(filename, camera, 'train%d.txt')\n",
    "        A.combinations('train%d.txt' % (camera,), camera, samples, 'train_combination%d.txt')\n",
    "        \n",
    "    \n",
    "    @staticmethod\n",
    "    def generate_valid_data(filename, camera, samples = 2):\n",
    "        A.fileshuffle(filename, camera, 'val%d.txt')\n",
    "        tmp = 'tmp_val%d.txt'\n",
    "        A.combinations('val%d.txt' % (camera,), camera, samples, tmp)\n",
    "        A.from_train_2_val(tmp % (camera,), camera, 'val_combination%d.txt')\n",
    "        \n",
    "    @staticmethod\n",
    "    def from_train_2_val(filename, camera, basefilename= 'val_combination%d.txt'):\n",
    "        with open(basefilename % (camera,), 'w') as w:\n",
    "            \n",
    "            with open(filename) as r:\n",
    "                for line in r:\n",
    "                    line = line.rstrip()\n",
    "                    line = line.split()\n",
    "                    w.write('%s %s %s \\n' % (line[0], line[1], \"1\"))\n",
    "                    w.write('%s %s %s \\n' % (line[0], line[2], \"0\"))\n",
    "        print(\"end\")\n",
    "                    \n",
    "                \n",
    "        \n",
    "    "
   ]
  },
  {
   "cell_type": "code",
   "execution_count": 11,
   "metadata": {},
   "outputs": [
    {
     "ename": "ValueError",
     "evalue": "empty range for randrange() (99550,99550, 0)",
     "output_type": "error",
     "traceback": [
      "\u001b[0;31m---------------------------------------------------------------------------\u001b[0m",
      "\u001b[0;31mValueError\u001b[0m                                Traceback (most recent call last)",
      "\u001b[0;32m<ipython-input-11-fe4d96ceba93>\u001b[0m in \u001b[0;36m<module>\u001b[0;34m()\u001b[0m\n\u001b[0;32m----> 1\u001b[0;31m \u001b[0mA\u001b[0m\u001b[0;34m.\u001b[0m\u001b[0mgenerate_train_data\u001b[0m\u001b[0;34m(\u001b[0m\u001b[0;34m'shuffled0.txt'\u001b[0m\u001b[0;34m,\u001b[0m \u001b[0mcamera\u001b[0m\u001b[0;34m=\u001b[0m\u001b[0;36m0\u001b[0m\u001b[0;34m,\u001b[0m \u001b[0msamples\u001b[0m\u001b[0;34m=\u001b[0m\u001b[0;36m1\u001b[0m\u001b[0;34m)\u001b[0m\u001b[0;34m\u001b[0m\u001b[0m\n\u001b[0m",
      "\u001b[0;32m<ipython-input-10-6313e690be38>\u001b[0m in \u001b[0;36mgenerate_train_data\u001b[0;34m(filename, camera, samples)\u001b[0m\n\u001b[1;32m     65\u001b[0m     \u001b[0;32mdef\u001b[0m \u001b[0mgenerate_train_data\u001b[0m\u001b[0;34m(\u001b[0m\u001b[0mfilename\u001b[0m\u001b[0;34m,\u001b[0m \u001b[0mcamera\u001b[0m\u001b[0;34m,\u001b[0m \u001b[0msamples\u001b[0m \u001b[0;34m=\u001b[0m \u001b[0;36m2\u001b[0m\u001b[0;34m)\u001b[0m\u001b[0;34m:\u001b[0m\u001b[0;34m\u001b[0m\u001b[0m\n\u001b[1;32m     66\u001b[0m         \u001b[0;31m#A.fileshuffle(filename, camera, 'train%d.txt')\u001b[0m\u001b[0;34m\u001b[0m\u001b[0;34m\u001b[0m\u001b[0m\n\u001b[0;32m---> 67\u001b[0;31m         \u001b[0mA\u001b[0m\u001b[0;34m.\u001b[0m\u001b[0mcombinations\u001b[0m\u001b[0;34m(\u001b[0m\u001b[0;34m'train%d.txt'\u001b[0m \u001b[0;34m%\u001b[0m \u001b[0;34m(\u001b[0m\u001b[0mcamera\u001b[0m\u001b[0;34m,\u001b[0m\u001b[0;34m)\u001b[0m\u001b[0;34m,\u001b[0m \u001b[0mcamera\u001b[0m\u001b[0;34m,\u001b[0m \u001b[0msamples\u001b[0m\u001b[0;34m,\u001b[0m \u001b[0;34m'train_combination%d.txt'\u001b[0m\u001b[0;34m)\u001b[0m\u001b[0;34m\u001b[0m\u001b[0m\n\u001b[0m\u001b[1;32m     68\u001b[0m \u001b[0;34m\u001b[0m\u001b[0m\n\u001b[1;32m     69\u001b[0m \u001b[0;34m\u001b[0m\u001b[0m\n",
      "\u001b[0;32m<ipython-input-10-6313e690be38>\u001b[0m in \u001b[0;36mcombinations\u001b[0;34m(filename, camera, samples, basefilename)\u001b[0m\n\u001b[1;32m     47\u001b[0m                     \u001b[0mpositives\u001b[0m\u001b[0;34m.\u001b[0m\u001b[0mappend\u001b[0m\u001b[0;34m(\u001b[0m\u001b[0mj\u001b[0m\u001b[0;34m)\u001b[0m\u001b[0;34m\u001b[0m\u001b[0m\n\u001b[1;32m     48\u001b[0m                 \u001b[0;32mif\u001b[0m \u001b[0mlen\u001b[0m\u001b[0;34m(\u001b[0m\u001b[0mnegatives\u001b[0m\u001b[0;34m)\u001b[0m \u001b[0;34m<\u001b[0m \u001b[0msamples\u001b[0m\u001b[0;34m:\u001b[0m\u001b[0;34m\u001b[0m\u001b[0m\n\u001b[0;32m---> 49\u001b[0;31m                     \u001b[0mh\u001b[0m \u001b[0;34m=\u001b[0m \u001b[0mrd\u001b[0m\u001b[0;34m.\u001b[0m\u001b[0mrandint\u001b[0m\u001b[0;34m(\u001b[0m\u001b[0mi\u001b[0m\u001b[0;34m,\u001b[0m \u001b[0mj\u001b[0m\u001b[0;34m)\u001b[0m\u001b[0;34m\u001b[0m\u001b[0m\n\u001b[0m\u001b[1;32m     50\u001b[0m                     \u001b[0mc3\u001b[0m\u001b[0;34m,\u001b[0m \u001b[0mt3\u001b[0m\u001b[0;34m,\u001b[0m \u001b[0md3\u001b[0m \u001b[0;34m=\u001b[0m \u001b[0mmetadata\u001b[0m\u001b[0;34m[\u001b[0m\u001b[0mh\u001b[0m\u001b[0;34m]\u001b[0m\u001b[0;34m\u001b[0m\u001b[0m\n\u001b[1;32m     51\u001b[0m                     \u001b[0;32mif\u001b[0m \u001b[0mc3\u001b[0m \u001b[0;34m!=\u001b[0m \u001b[0mc1\u001b[0m\u001b[0;34m:\u001b[0m\u001b[0;34m\u001b[0m\u001b[0m\n",
      "\u001b[0;32m~/anaconda3/lib/python3.7/random.py\u001b[0m in \u001b[0;36mrandint\u001b[0;34m(self, a, b)\u001b[0m\n\u001b[1;32m    220\u001b[0m         \"\"\"\n\u001b[1;32m    221\u001b[0m \u001b[0;34m\u001b[0m\u001b[0m\n\u001b[0;32m--> 222\u001b[0;31m         \u001b[0;32mreturn\u001b[0m \u001b[0mself\u001b[0m\u001b[0;34m.\u001b[0m\u001b[0mrandrange\u001b[0m\u001b[0;34m(\u001b[0m\u001b[0ma\u001b[0m\u001b[0;34m,\u001b[0m \u001b[0mb\u001b[0m\u001b[0;34m+\u001b[0m\u001b[0;36m1\u001b[0m\u001b[0;34m)\u001b[0m\u001b[0;34m\u001b[0m\u001b[0m\n\u001b[0m\u001b[1;32m    223\u001b[0m \u001b[0;34m\u001b[0m\u001b[0m\n\u001b[1;32m    224\u001b[0m     def _randbelow(self, n, int=int, maxsize=1<<BPF, type=type,\n",
      "\u001b[0;32m~/anaconda3/lib/python3.7/random.py\u001b[0m in \u001b[0;36mrandrange\u001b[0;34m(self, start, stop, step, _int)\u001b[0m\n\u001b[1;32m    198\u001b[0m             \u001b[0;32mreturn\u001b[0m \u001b[0mistart\u001b[0m \u001b[0;34m+\u001b[0m \u001b[0mself\u001b[0m\u001b[0;34m.\u001b[0m\u001b[0m_randbelow\u001b[0m\u001b[0;34m(\u001b[0m\u001b[0mwidth\u001b[0m\u001b[0;34m)\u001b[0m\u001b[0;34m\u001b[0m\u001b[0m\n\u001b[1;32m    199\u001b[0m         \u001b[0;32mif\u001b[0m \u001b[0mstep\u001b[0m \u001b[0;34m==\u001b[0m \u001b[0;36m1\u001b[0m\u001b[0;34m:\u001b[0m\u001b[0;34m\u001b[0m\u001b[0m\n\u001b[0;32m--> 200\u001b[0;31m             \u001b[0;32mraise\u001b[0m \u001b[0mValueError\u001b[0m\u001b[0;34m(\u001b[0m\u001b[0;34m\"empty range for randrange() (%d,%d, %d)\"\u001b[0m \u001b[0;34m%\u001b[0m \u001b[0;34m(\u001b[0m\u001b[0mistart\u001b[0m\u001b[0;34m,\u001b[0m \u001b[0mistop\u001b[0m\u001b[0;34m,\u001b[0m \u001b[0mwidth\u001b[0m\u001b[0;34m)\u001b[0m\u001b[0;34m)\u001b[0m\u001b[0;34m\u001b[0m\u001b[0m\n\u001b[0m\u001b[1;32m    201\u001b[0m \u001b[0;34m\u001b[0m\u001b[0m\n\u001b[1;32m    202\u001b[0m         \u001b[0;31m# Non-unit step argument supplied.\u001b[0m\u001b[0;34m\u001b[0m\u001b[0;34m\u001b[0m\u001b[0m\n",
      "\u001b[0;31mValueError\u001b[0m: empty range for randrange() (99550,99550, 0)"
     ]
    }
   ],
   "source": [
    "A.generate_train_data('shuffled0.txt', camera=0, samples=1)"
   ]
  },
  {
   "cell_type": "code",
   "execution_count": 2,
   "metadata": {},
   "outputs": [
    {
     "name": "stdout",
     "output_type": "stream",
     "text": [
      "creating...\n",
      "tmp_val0.txt\n",
      "end\n"
     ]
    }
   ],
   "source": [
    "A.generate_valid_data('shuffled0.txt', camera=0, samples=2)"
   ]
  },
  {
   "cell_type": "code",
   "execution_count": null,
   "metadata": {},
   "outputs": [],
   "source": []
  }
 ],
 "metadata": {
  "kernelspec": {
   "display_name": "Python 3",
   "language": "python",
   "name": "python3"
  },
  "language_info": {
   "codemirror_mode": {
    "name": "ipython",
    "version": 3
   },
   "file_extension": ".py",
   "mimetype": "text/x-python",
   "name": "python",
   "nbconvert_exporter": "python",
   "pygments_lexer": "ipython3",
   "version": "3.7.0"
  }
 },
 "nbformat": 4,
 "nbformat_minor": 2
}
